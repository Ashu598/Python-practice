{
  "metadata": {
    "language_info": {
      "codemirror_mode": {
        "name": "python",
        "version": 3
      },
      "file_extension": ".py",
      "mimetype": "text/x-python",
      "name": "python",
      "nbconvert_exporter": "python",
      "pygments_lexer": "ipython3",
      "version": "3.8"
    },
    "kernelspec": {
      "name": "python",
      "display_name": "Python (Pyodide)",
      "language": "python"
    }
  },
  "nbformat_minor": 4,
  "nbformat": 4,
  "cells": [
    {
      "cell_type": "code",
      "source": "import numpy as np\n\nx= np.array([1,2,3,4]) #This is how we create an array\nprint(x)\nprint(type(x))",
      "metadata": {
        "trusted": true
      },
      "execution_count": 6,
      "outputs": [
        {
          "name": "stdout",
          "text": "[1 2 3 4]\n<class 'numpy.ndarray'>\n",
          "output_type": "stream"
        }
      ]
    },
    {
      "cell_type": "code",
      "source": "y= [1,2,3,4]\nprint(y)\nprint(type(y))",
      "metadata": {
        "trusted": true
      },
      "execution_count": 5,
      "outputs": [
        {
          "name": "stdout",
          "text": "[1, 2, 3, 4]\n<class 'list'>\n",
          "output_type": "stream"
        }
      ]
    },
    {
      "cell_type": "code",
      "source": "# How to convert a list into array\nimport numpy as np\na= [3,2,4,8]\nb= np.array(a)\nprint(b)\n",
      "metadata": {
        "trusted": true
      },
      "execution_count": 11,
      "outputs": [
        {
          "name": "stdout",
          "text": "[3 2 4 8]\n",
          "output_type": "stream"
        }
      ]
    },
    {
      "cell_type": "code",
      "source": "# Create a list in which user will insert some values and then convert it into an array:\nl= []\nfor i in range(1,4):\n    abc = input(\"Enter value\")\n    l.append(abc)\n    \nprint(np.array(l))",
      "metadata": {
        "trusted": true
      },
      "execution_count": 17,
      "outputs": [
        {
          "name": "stdout",
          "text": "[<PyodideFuture pending cb=[WebLoop._decrement_in_progress()]>\n <PyodideFuture pending cb=[WebLoop._decrement_in_progress()]>\n <PyodideFuture pending cb=[WebLoop._decrement_in_progress()]>]\n",
          "output_type": "stream"
        },
        {
          "output_type": "stream",
          "name": "stdin",
          "text": "Enter value 8\nEnter value 7\nEnter value 5\n"
        }
      ]
    },
    {
      "cell_type": "code",
      "source": "#how to create Multidiamensional array:\nar3 = np.array([[[1,2,3,4], [5,1,3,2], [1,2,3,4]]])\nprint(ar3)\nprint(ar3.ndim) # ndim is used to find the number of diamensions.\n\nprint()\n#ShortCut to create Multidiamensional Array using ndmin:\narn = np.array([1,2,3,4], ndmin = 10) # ndmin will execute 10 diamensional array\nprint(arn)\nprint(arn.ndim)",
      "metadata": {
        "trusted": true
      },
      "execution_count": 27,
      "outputs": [
        {
          "name": "stdout",
          "text": "[[[1 2 3 4]\n  [5 1 3 2]\n  [1 2 3 4]]]\n3\n\n[[[[[[[[[[1 2 3 4]]]]]]]]]]\n10\n",
          "output_type": "stream"
        }
      ]
    },
    {
      "cell_type": "code",
      "source": "#Zeros\narz = np.zeros(3)\nprint(arz)\n\narz1 = np.zeros((3,4))\nprint(arz1)",
      "metadata": {
        "trusted": true
      },
      "execution_count": 33,
      "outputs": [
        {
          "name": "stdout",
          "text": "[0. 0. 0.]\n[[0. 0. 0. 0.]\n [0. 0. 0. 0.]\n [0. 0. 0. 0.]]\n",
          "output_type": "stream"
        }
      ]
    },
    {
      "cell_type": "code",
      "source": "#Ones\naro= np.ones(4)\nprint(aro)\n\naro1 = np.ones((4,5))\nprint(aro1)\n\n\n#Empty : empty present the value of previous execution\narem= np.empty(4)\nprint(arem)",
      "metadata": {
        "trusted": true
      },
      "execution_count": 42,
      "outputs": [
        {
          "name": "stdout",
          "text": "[1. 1. 1. 1.]\n[[1. 1. 1. 1. 1.]\n [1. 1. 1. 1. 1.]\n [1. 1. 1. 1. 1.]\n [1. 1. 1. 1. 1.]]\n[1. 1. 1. 1.]\n",
          "output_type": "stream"
        }
      ]
    },
    {
      "cell_type": "code",
      "source": "# Range\narrn= np.arange(4)\nprint(arrn)\n\n# Diagonal\nardn = np.eye(4)\nprint(ardn)",
      "metadata": {
        "trusted": true
      },
      "execution_count": 46,
      "outputs": [
        {
          "name": "stdout",
          "text": "[0 1 2 3]\n[[1. 0. 0. 0.]\n [0. 1. 0. 0.]\n [0. 0. 1. 0.]\n [0. 0. 0. 1.]]\n",
          "output_type": "stream"
        }
      ]
    },
    {
      "cell_type": "code",
      "source": "# Random\n# Rand: it executes numbers between 0 & 1\nran1= np.random.rand(4)\nprint(ran1)\n\nran2 = np.random.rand(3,4)\nprint(ran2)\n\nprint()\n\n#Randn : it show numbers (positive and negative) near 0\nran3 = np.random.randn(4)\nprint(ran3)\n\nran4 = np.random.randn(3,4)\nprint(ran4)\n",
      "metadata": {
        "trusted": true
      },
      "execution_count": 53,
      "outputs": [
        {
          "name": "stdout",
          "text": "[0.77207869 0.93781131 0.72104676 0.24746365]\n[[0.69536555 0.95362272 0.62811726 0.62675959]\n [0.74816786 0.15446122 0.76128925 0.91032441]\n [0.73905393 0.89659297 0.01449412 0.71551264]]\n\n[ 0.37745549 -1.06383865  0.37177137  0.79430146]\n[[ 1.3649922  -0.05262969 -0.90625502  1.00988939]\n [-1.36417097  0.10213098  0.79842461 -2.06212918]\n [ 0.2180363   1.10455923 -0.40278873 -0.74352211]]\n",
          "output_type": "stream"
        }
      ]
    },
    {
      "cell_type": "code",
      "source": "#ranf: it executes numbers between [0 1) that means 0 is included but it will be less than 1\nraf= np.random.ranf(4)\nprint(raf)\n\nraf1= np.random.ranf((3,4))\nprint(raf1)\n\nprint()\n\n#randint: it shows the numbers between given range: np.random.randint(min, max, number of results)\nranit = np.random.randint(5, 20, 4)\nprint(ranit)",
      "metadata": {
        "trusted": true
      },
      "execution_count": 57,
      "outputs": [
        {
          "name": "stdout",
          "text": "[0.08797851 0.10707293 0.0203824  0.01549488]\n[[0.66912282 0.03136577 0.6864166  0.74390602]\n [0.72503655 0.05495181 0.53988258 0.32710661]\n [0.64715688 0.89325993 0.29766241 0.0703655 ]]\n\n[13  7 17  8]\n",
          "output_type": "stream"
        }
      ]
    },
    {
      "cell_type": "code",
      "source": "# Data type\nimport numpy as np\na= np.array([2,4,15,24])\nprint(a)\nprint(a.dtype)\n\nb= np.array([1.3, 1.5, 1.8])\nprint(b)\nprint(b.dtype)\n\n#if we have to change the data type of a\na= np.array([2,4,15,24], dtype = np.int8)\nprint(a)\nprint(a.dtype)",
      "metadata": {
        "trusted": true
      },
      "execution_count": 1,
      "outputs": [
        {
          "name": "stdout",
          "text": "[ 2  4 15 24]\nint32\n[1.3 1.5 1.8]\nfloat64\n[ 2  4 15 24]\nint8\n",
          "output_type": "stream"
        }
      ]
    },
    {
      "cell_type": "code",
      "source": "#Change a data type using function\nc= np.array([4,3,6,9])\nprint(c)\nprint(c.dtype)\nd= np.float32(c)\nprint(d)\nprint(d.dtype)\n\n#another method to change data type\nprint()\ne=c.astype(float)\nprint(e)\nprint(e.dtype)",
      "metadata": {
        "trusted": true
      },
      "execution_count": 2,
      "outputs": [
        {
          "name": "stdout",
          "text": "[4 3 6 9]\nint32\n[4. 3. 6. 9.]\nfloat32\n\n[4. 3. 6. 9.]\nfloat64\n",
          "output_type": "stream"
        }
      ]
    }
  ]
}